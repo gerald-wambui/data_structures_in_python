{
  "nbformat": 4,
  "nbformat_minor": 0,
  "metadata": {
    "colab": {
      "provenance": [],
      "authorship_tag": "ABX9TyPuabpO21NaxzTrrHI1dVjX",
      "include_colab_link": true
    },
    "kernelspec": {
      "name": "python3",
      "display_name": "Python 3"
    },
    "language_info": {
      "name": "python"
    }
  },
  "cells": [
    {
      "cell_type": "markdown",
      "metadata": {
        "id": "view-in-github",
        "colab_type": "text"
      },
      "source": [
        "<a href=\"https://colab.research.google.com/github/gerald-wambui/data_structures_in_python/blob/main/lists_in_python.ipynb\" target=\"_parent\"><img src=\"https://colab.research.google.com/assets/colab-badge.svg\" alt=\"Open In Colab\"/></a>"
      ]
    },
    {
      "cell_type": "code",
      "execution_count": null,
      "metadata": {
        "id": "06qc-HpLWFad"
      },
      "outputs": [],
      "source": []
    },
    {
      "cell_type": "code",
      "source": [
        "#slicing\n",
        "days = ['sunday', 'monday', 'tuesday', 'wednesday', 'thursday', 'friday', 'saturday']\n",
        "print(days[:4])"
      ],
      "metadata": {
        "colab": {
          "base_uri": "https://localhost:8080/"
        },
        "id": "MzrfEcu6WOI_",
        "outputId": "7002c78c-1485-4a51-9d66-6d4abb722242"
      },
      "execution_count": 5,
      "outputs": [
        {
          "output_type": "stream",
          "name": "stdout",
          "text": [
            "['sunday', 'monday', 'tuesday', 'wednesday']\n"
          ]
        }
      ]
    },
    {
      "cell_type": "markdown",
      "source": [
        "The `append()` method takes an element as an argument and<br> adds it to the end of the list"
      ],
      "metadata": {
        "id": "pCOIodvSZW6m"
      }
    },
    {
      "cell_type": "code",
      "source": [
        "days.append('july')\n",
        "print(days)"
      ],
      "metadata": {
        "colab": {
          "base_uri": "https://localhost:8080/"
        },
        "id": "F5YwTKjzWxKM",
        "outputId": "eb469dbe-798b-40a6-8cf8-ab84426acc45"
      },
      "execution_count": 12,
      "outputs": [
        {
          "output_type": "stream",
          "name": "stdout",
          "text": [
            "['friday', 'monday', 'saturday', 'sunday', 'thursday', 'tuesday', 'wednesday', 'july']\n"
          ]
        }
      ]
    },
    {
      "cell_type": "code",
      "source": [
        "#sorts the elements in ascending order\n",
        "days.sort()\n",
        "print(days)"
      ],
      "metadata": {
        "colab": {
          "base_uri": "https://localhost:8080/"
        },
        "id": "yCtGBLRWW7Gp",
        "outputId": "d6d77266-273a-47b6-e92a-9db533f75f72"
      },
      "execution_count": 7,
      "outputs": [
        {
          "output_type": "stream",
          "name": "stdout",
          "text": [
            "['friday', 'monday', 'saturday', 'sunday', 'thursday', 'tuesday', 'wednesday']\n"
          ]
        }
      ]
    },
    {
      "cell_type": "markdown",
      "source": [
        "`in` and `not in` are used to check for presence or abscence of an element in the list.<br>\n",
        "They return a boolean.<br>\n",
        "The in and not in<br>"
      ],
      "metadata": {
        "id": "eiC82bzSZyFT"
      }
    },
    {
      "cell_type": "code",
      "source": [
        "print(4 in days)\n",
        "print('sunday' in days)"
      ],
      "metadata": {
        "colab": {
          "base_uri": "https://localhost:8080/"
        },
        "id": "jsv4_zanXbPJ",
        "outputId": "32b9df59-8566-4820-9d09-f502bbf3a4a0"
      },
      "execution_count": 11,
      "outputs": [
        {
          "output_type": "stream",
          "name": "stdout",
          "text": [
            "False\n",
            "True\n"
          ]
        }
      ]
    },
    {
      "cell_type": "code",
      "source": [
        "print('july' not in days)"
      ],
      "metadata": {
        "colab": {
          "base_uri": "https://localhost:8080/"
        },
        "id": "6zaXv7tAXtbT",
        "outputId": "9199832c-7539-4785-e486-29e4ae8b85c4"
      },
      "execution_count": 13,
      "outputs": [
        {
          "output_type": "stream",
          "name": "stdout",
          "text": [
            "False\n"
          ]
        }
      ]
    },
    {
      "cell_type": "code",
      "source": [
        "#join() takes in list as an argument\n",
        "print(\"\\n\".join(days))"
      ],
      "metadata": {
        "colab": {
          "base_uri": "https://localhost:8080/"
        },
        "id": "k38oV9HPbMir",
        "outputId": "607d76d1-66c8-4776-93a6-ffe4840bd6c2"
      },
      "execution_count": 14,
      "outputs": [
        {
          "output_type": "stream",
          "name": "stdout",
          "text": [
            "friday\n",
            "monday\n",
            "saturday\n",
            "sunday\n",
            "thursday\n",
            "tuesday\n",
            "wednesday\n",
            "july\n"
          ]
        }
      ]
    },
    {
      "cell_type": "markdown",
      "source": [
        "other famous methods in lists include<b>:</b><br> `min()` and `max()`"
      ],
      "metadata": {
        "id": "o9h_pkcTa3P0"
      }
    }
  ]
}