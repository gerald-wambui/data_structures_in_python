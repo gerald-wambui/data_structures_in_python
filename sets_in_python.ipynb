{
  "nbformat": 4,
  "nbformat_minor": 0,
  "metadata": {
    "colab": {
      "provenance": [],
      "authorship_tag": "ABX9TyOZcO5rjrFh2+/4NxGHkLUH",
      "include_colab_link": true
    },
    "kernelspec": {
      "name": "python3",
      "display_name": "Python 3"
    },
    "language_info": {
      "name": "python"
    }
  },
  "cells": [
    {
      "cell_type": "markdown",
      "metadata": {
        "id": "view-in-github",
        "colab_type": "text"
      },
      "source": [
        "<a href=\"https://colab.research.google.com/github/gerald-wambui/data_structures_in_python/blob/discussion/sets_in_python.ipynb\" target=\"_parent\"><img src=\"https://colab.research.google.com/assets/colab-badge.svg\" alt=\"Open In Colab\"/></a>"
      ]
    },
    {
      "cell_type": "code",
      "execution_count": 15,
      "metadata": {
        "colab": {
          "base_uri": "https://localhost:8080/"
        },
        "id": "5PLnAPQscMyK",
        "outputId": "f05212ed-b79d-47b7-ef69-dccda7a219c8"
      },
      "outputs": [
        {
          "output_type": "stream",
          "name": "stdout",
          "text": [
            "[1, 23, 23, 12, 44, 12, 26, 23, 1, 1]\n",
            "{1, 12, 44, 23, 26}\n"
          ]
        }
      ],
      "source": [
        "'''\n",
        "sets are a mutable collection of unique unordered\n",
        "elements\n",
        "set() method removes duplicates from the collection\n",
        "\n",
        "'''\n",
        "\n",
        "nums = [1, 23, 23, 12, 44, 12, 26, 23, 1, 1]\n",
        "unique_nums = set(nums)\n",
        "print(nums)\n",
        "print(unique_nums)"
      ]
    },
    {
      "cell_type": "code",
      "source": [
        "#if len(nums) < len(unique_nums): print(\"not a set\")\n",
        "#else:\n",
        "#  print(\"a set\\n\")\n",
        "\n",
        "print(len(nums))\n",
        "print(len(unique_nums))"
      ],
      "metadata": {
        "colab": {
          "base_uri": "https://localhost:8080/"
        },
        "id": "ju1DxW8FdmsT",
        "outputId": "16ed0645-837e-4023-b776-2eb51ebefa85"
      },
      "execution_count": 6,
      "outputs": [
        {
          "output_type": "stream",
          "name": "stdout",
          "text": [
            "a set\n",
            "\n",
            "10\n",
            "5\n"
          ]
        }
      ]
    },
    {
      "cell_type": "code",
      "source": [
        "#sets use add() method as compared to list's append() method\n",
        "#the added element is placed at a random location/index\n",
        "unique_nums.add(40)\n",
        "\n",
        "print(unique_nums)"
      ],
      "metadata": {
        "colab": {
          "base_uri": "https://localhost:8080/"
        },
        "id": "lvgAmbrQfBBS",
        "outputId": "b2606509-be0c-4034-c1a8-e7a55e79a419"
      },
      "execution_count": 16,
      "outputs": [
        {
          "output_type": "stream",
          "name": "stdout",
          "text": [
            "{1, 40, 12, 44, 23, 26}\n"
          ]
        }
      ]
    },
    {
      "cell_type": "code",
      "source": [
        "#to delete elements use pop() method takes no arguments\n",
        "#it pops the first number in the set\n",
        "unique_nums.pop()\n",
        "print(unique_nums)\n",
        "\n"
      ],
      "metadata": {
        "colab": {
          "base_uri": "https://localhost:8080/"
        },
        "id": "w48lJ0pifkif",
        "outputId": "d2a8ba9e-de38-4834-885b-520842f5c0bb"
      },
      "execution_count": 17,
      "outputs": [
        {
          "output_type": "stream",
          "name": "stdout",
          "text": [
            "{40, 12, 44, 23, 26}\n"
          ]
        }
      ]
    },
    {
      "cell_type": "code",
      "source": [
        "unique_nums.pop()\n",
        "print(unique_nums)\n"
      ],
      "metadata": {
        "colab": {
          "base_uri": "https://localhost:8080/"
        },
        "id": "V5WSVG5xhLhE",
        "outputId": "3f0656ac-e88d-42b1-d8e4-5895632179c9"
      },
      "execution_count": 18,
      "outputs": [
        {
          "output_type": "stream",
          "name": "stdout",
          "text": [
            "{12, 44, 23, 26}\n"
          ]
        }
      ]
    },
    {
      "cell_type": "code",
      "source": [
        "unique_nums.pop()\n",
        "print(unique_nums)\n"
      ],
      "metadata": {
        "colab": {
          "base_uri": "https://localhost:8080/"
        },
        "id": "602-mfbxhOSL",
        "outputId": "7089c193-2a24-43d0-c4ee-860b65f18909"
      },
      "execution_count": 19,
      "outputs": [
        {
          "output_type": "stream",
          "name": "stdout",
          "text": [
            "{44, 23, 26}\n"
          ]
        }
      ]
    }
  ]
}